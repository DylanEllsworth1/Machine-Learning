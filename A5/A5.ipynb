{
 "cells": [
  {
   "cell_type": "code",
   "execution_count": 68,
   "metadata": {},
   "outputs": [],
   "source": [
    "import sys\n",
    "import pandas as pd\n",
    "import numpy as np\n",
    "from sklearn.model_selection import train_test_split\n",
    "from sklearn.svm import SVC\n",
    "from sklearn.model_selection import train_test_split\n",
    "import matplotlib.pyplot as plt\n",
    "from sklearn.model_selection import learning_curve\n",
    "from sklearn import metrics\n",
    "from sklearn.model_selection import KFold\n",
    "\n",
    "from sklearn.ensemble import RandomForestClassifier\n",
    "from sklearn.model_selection import GridSearchCV\n",
    "from sklearn.model_selection import cross_val_score"
   ]
  },
  {
   "cell_type": "code",
   "execution_count": 24,
   "metadata": {},
   "outputs": [],
   "source": [
    "def ReadData(tsv_file):\n",
    "  data = pd.read_csv(tsv_file, sep=\"\\t\", header=0)\n",
    "  return data"
   ]
  },
  {
   "cell_type": "code",
   "execution_count": 50,
   "metadata": {},
   "outputs": [
    {
     "name": "stdout",
     "output_type": "stream",
     "text": [
      "(3816, 72)\n"
     ]
    }
   ],
   "source": [
    "data = ReadData(\"A2_training_dataset.tsv\")\n",
    "print(data.shape)\n",
    "X_train, X_test, y_train, y_test = \\\n",
    "    train_test_split(data.iloc[:, :-1].values, data.iloc[:, -1:].values, test_size=0.1)"
   ]
  },
  {
   "cell_type": "code",
   "execution_count": 69,
   "metadata": {},
   "outputs": [],
   "source": [
    "def KFoldCV(model, data_X, data_y, k):\n",
    "  kf = KFold(n_splits=k, shuffle=True)\n",
    "  for train_index, test_index in kf.split(data_X):\n",
    "    train_X = data_X[train_index]\n",
    "    train_y = data_y[train_index]\n",
    "    test_X, test_y = data_X[test_index], data_y[test_index]\n",
    "    model.fit(train_X, train_y)\n",
    "    score = model.score(test_X, test_y)\n",
    "    print('accuracy:{}'.format(score))"
   ]
  },
  {
   "cell_type": "code",
   "execution_count": 35,
   "metadata": {},
   "outputs": [
    {
     "data": {
      "text/plain": [
       "SVC(C=1.0, break_ties=False, cache_size=200, class_weight=None, coef0=0.0,\n",
       "    decision_function_shape='ovr', degree=3, gamma='scale', kernel='rbf',\n",
       "    max_iter=-1, probability=True, random_state=None, shrinking=True, tol=0.001,\n",
       "    verbose=False)"
      ]
     },
     "execution_count": 35,
     "metadata": {},
     "output_type": "execute_result"
    }
   ],
   "source": [
    "clf = SVC(probability=True)\n",
    "clf.fit(X_train, y_train.ravel())"
   ]
  },
  {
   "cell_type": "code",
   "execution_count": 36,
   "metadata": {},
   "outputs": [
    {
     "name": "stdout",
     "output_type": "stream",
     "text": [
      "0.9083769633507853\n"
     ]
    }
   ],
   "source": [
    "y_pred = clf.predict(X_test)\n",
    "print(clf.score(X_test, y_test.ravel()))"
   ]
  },
  {
   "cell_type": "code",
   "execution_count": 64,
   "metadata": {
    "scrolled": true
   },
   "outputs": [
    {
     "name": "stderr",
     "output_type": "stream",
     "text": [
      "C:\\Users\\oscar\\anaconda3\\lib\\site-packages\\sklearn\\model_selection\\_validation.py:536: FitFailedWarning: Estimator fit failed. The score on this train-test partition for these parameters will be set to nan. Details: \n",
      "ValueError: 'sigmod' is not in list\n",
      "\n",
      "  FitFailedWarning)\n",
      "C:\\Users\\oscar\\anaconda3\\lib\\site-packages\\sklearn\\model_selection\\_validation.py:536: FitFailedWarning: Estimator fit failed. The score on this train-test partition for these parameters will be set to nan. Details: \n",
      "ValueError: 'sigmod' is not in list\n",
      "\n",
      "  FitFailedWarning)\n",
      "C:\\Users\\oscar\\anaconda3\\lib\\site-packages\\sklearn\\model_selection\\_validation.py:536: FitFailedWarning: Estimator fit failed. The score on this train-test partition for these parameters will be set to nan. Details: \n",
      "ValueError: 'sigmod' is not in list\n",
      "\n",
      "  FitFailedWarning)\n",
      "C:\\Users\\oscar\\anaconda3\\lib\\site-packages\\sklearn\\model_selection\\_validation.py:536: FitFailedWarning: Estimator fit failed. The score on this train-test partition for these parameters will be set to nan. Details: \n",
      "ValueError: 'sigmod' is not in list\n",
      "\n",
      "  FitFailedWarning)\n",
      "C:\\Users\\oscar\\anaconda3\\lib\\site-packages\\sklearn\\model_selection\\_validation.py:536: FitFailedWarning: Estimator fit failed. The score on this train-test partition for these parameters will be set to nan. Details: \n",
      "ValueError: 'sigmod' is not in list\n",
      "\n",
      "  FitFailedWarning)\n",
      "C:\\Users\\oscar\\anaconda3\\lib\\site-packages\\sklearn\\model_selection\\_validation.py:536: FitFailedWarning: Estimator fit failed. The score on this train-test partition for these parameters will be set to nan. Details: \n",
      "ValueError: 'sigmod' is not in list\n",
      "\n",
      "  FitFailedWarning)\n",
      "C:\\Users\\oscar\\anaconda3\\lib\\site-packages\\sklearn\\model_selection\\_validation.py:536: FitFailedWarning: Estimator fit failed. The score on this train-test partition for these parameters will be set to nan. Details: \n",
      "ValueError: 'sigmod' is not in list\n",
      "\n",
      "  FitFailedWarning)\n",
      "C:\\Users\\oscar\\anaconda3\\lib\\site-packages\\sklearn\\model_selection\\_validation.py:536: FitFailedWarning: Estimator fit failed. The score on this train-test partition for these parameters will be set to nan. Details: \n",
      "ValueError: 'sigmod' is not in list\n",
      "\n",
      "  FitFailedWarning)\n",
      "C:\\Users\\oscar\\anaconda3\\lib\\site-packages\\sklearn\\model_selection\\_validation.py:536: FitFailedWarning: Estimator fit failed. The score on this train-test partition for these parameters will be set to nan. Details: \n",
      "ValueError: 'sigmod' is not in list\n",
      "\n",
      "  FitFailedWarning)\n",
      "C:\\Users\\oscar\\anaconda3\\lib\\site-packages\\sklearn\\model_selection\\_validation.py:536: FitFailedWarning: Estimator fit failed. The score on this train-test partition for these parameters will be set to nan. Details: \n",
      "ValueError: 'sigmod' is not in list\n",
      "\n",
      "  FitFailedWarning)\n"
     ]
    },
    {
     "name": "stdout",
     "output_type": "stream",
     "text": [
      "{'kernel': 'rbf'}\n",
      "0.9152586616041767\n"
     ]
    }
   ],
   "source": [
    "param_grid = {'kernel': ['rbf', 'linear', 'poly']}\n",
    "clf = SVC()\n",
    "GS = GridSearchCV(clf, param_grid, cv=10)\n",
    "GS.fit(X_train, y_train.ravel())\n",
    "print(GS.best_params_)\n",
    "print(GS.best_score_)"
   ]
  },
  {
   "cell_type": "code",
   "execution_count": 67,
   "metadata": {},
   "outputs": [
    {
     "name": "stdout",
     "output_type": "stream",
     "text": [
      "{'C': 11, 'gamma': 1e-05}\n",
      "0.9251601803512102\n"
     ]
    }
   ],
   "source": [
    "param_grid = {\n",
    "    'C': [1, 3, 5, 7, 9, 11, 13, 15, 17, 19],\n",
    "    'gamma': [0.00001, 0.0001, 0.001, 0.1, 1, 10, 100, 1000],\n",
    "}\n",
    "clf = SVC(kernel='rbf')\n",
    "GS = GridSearchCV(clf, param_grid, cv=10)\n",
    "GS.fit(X_train, y_train.ravel())\n",
    "print(GS.best_params_)\n",
    "print(GS.best_score_)"
   ]
  },
  {
   "cell_type": "code",
   "execution_count": 77,
   "metadata": {},
   "outputs": [
    {
     "name": "stdout",
     "output_type": "stream",
     "text": [
      "accuracy:0.9069767441860465\n",
      "accuracy:0.938953488372093\n",
      "accuracy:0.938953488372093\n",
      "accuracy:0.9098837209302325\n",
      "accuracy:0.9446064139941691\n",
      "accuracy:0.9212827988338192\n",
      "accuracy:0.9271137026239067\n",
      "accuracy:0.9358600583090378\n",
      "accuracy:0.9125364431486881\n",
      "accuracy:0.9154518950437318\n"
     ]
    }
   ],
   "source": [
    "clf = SVC(kernel='rbf', C=11, gamma=0.00001)\n",
    "KFoldCV(clf, X_train, y_train.ravel(), 10)"
   ]
  },
  {
   "cell_type": "code",
   "execution_count": 32,
   "metadata": {
    "scrolled": true
   },
   "outputs": [
    {
     "data": {
      "image/png": "[encoded data removed]",
      "text/plain": [
       "<Figure size 432x288 with 1 Axes>"
      ]
     },
     "metadata": {
      "needs_background": "light"
     },
     "output_type": "display_data"
    },
    {
     "data": {
      "image/png": "[encoded data removed]",
      "text/plain": [
       "<Figure size 432x288 with 1 Axes>"
      ]
     },
     "metadata": {
      "needs_background": "light"
     },
     "output_type": "display_data"
    }
   ],
   "source": [
    "def GraphicalPerformance(model):\n",
    "    metrics.plot_roc_curve(model, X_test, y_test.ravel())\n",
    "    metrics.plot_precision_recall_curve(clf, X_test, y_test.ravel())\n",
    "    plt.show()"
   ]
  },
  {
   "cell_type": "code",
   "execution_count": 53,
   "metadata": {},
   "outputs": [
    {
     "data": {
      "text/plain": [
       "0.9210878703640925"
      ]
     },
     "execution_count": 53,
     "metadata": {},
     "output_type": "execute_result"
    }
   ],
   "source": [
    "rfc = RandomForestClassifier(n_estimators=10,random_state=90)\n",
    "score = cross_val_score(rfc, X_train, y_train.ravel(), cv=10).mean()\n",
    "score"
   ]
  },
  {
   "cell_type": "code",
   "execution_count": 54,
   "metadata": {
    "scrolled": true
   },
   "outputs": [
    {
     "name": "stdout",
     "output_type": "stream",
     "text": [
      "0.9327344226727234 161\n"
     ]
    },
    {
     "data": {
      "image/png": "[encoded data removed]",
      "text/plain": [
       "<Figure size 1440x360 with 1 Axes>"
      ]
     },
     "metadata": {
      "needs_background": "light"
     },
     "output_type": "display_data"
    }
   ],
   "source": [
    "scores = []\n",
    "for i in range(0, 200, 10):\n",
    "    rfc = RandomForestClassifier(n_estimators = i+1, n_jobs=-1, random_state=90)\n",
    "    score = cross_val_score(rfc, X_train, y_train.ravel(), cv=10).mean()\n",
    "    scores.append(score)\n",
    "print(max(scores), scores.index(max(scores))*10+1)\n",
    "plt.figure(figsize=[20, 5])\n",
    "plt.plot(range(1, 201, 10), scores)\n",
    "plt.show()"
   ]
  },
  {
   "cell_type": "code",
   "execution_count": 58,
   "metadata": {},
   "outputs": [
    {
     "name": "stdout",
     "output_type": "stream",
     "text": [
      "{'max_depth': 17}\n",
      "0.9321521798088007\n"
     ]
    }
   ],
   "source": [
    "param_grid = {'max_depth':np.arange(1, 20, 1)}\n",
    "rfc = RandomForestClassifier(n_estimators = 161, random_state=90)\n",
    "GS = GridSearchCV(rfc, param_grid, cv=10)\n",
    "GS.fit(X_train, y_train.ravel())\n",
    "print(GS.best_params_)\n",
    "print(GS.best_score_)"
   ]
  },
  {
   "cell_type": "code",
   "execution_count": 59,
   "metadata": {},
   "outputs": [
    {
     "name": "stdout",
     "output_type": "stream",
     "text": [
      "{'min_samples_leaf': 1}\n",
      "0.9321521798088007\n"
     ]
    }
   ],
   "source": [
    "param_grid={'min_samples_leaf':np.arange(1, 1+10, 1)}\n",
    "rfc = RandomForestClassifier(n_estimators = 161, max_depth=17, random_state=90)\n",
    "GS = GridSearchCV(rfc, param_grid, cv=10)\n",
    "GS.fit(X_train, y_train.ravel())\n",
    "print(GS.best_params_)\n",
    "print(GS.best_score_)"
   ]
  },
  {
   "cell_type": "code",
   "execution_count": 62,
   "metadata": {},
   "outputs": [
    {
     "name": "stdout",
     "output_type": "stream",
     "text": [
      "{'min_samples_split': 2}\n",
      "0.9321521798088007\n"
     ]
    }
   ],
   "source": [
    "param_grid={'min_samples_split':np.arange(2, 2+20, 1)}\n",
    "rfc = RandomForestClassifier(n_estimators = 161, max_depth=17, min_samples_leaf=1, random_state=90)\n",
    "GS = GridSearchCV(rfc,param_grid,cv=10)\n",
    "GS.fit(X_train, y_train.ravel())\n",
    "print(GS.best_params_)\n",
    "print(GS.best_score_)"
   ]
  },
  {
   "cell_type": "code",
   "execution_count": 63,
   "metadata": {},
   "outputs": [
    {
     "name": "stdout",
     "output_type": "stream",
     "text": [
      "{'criterion': 'gini'}\n",
      "0.9321521798088007\n"
     ]
    }
   ],
   "source": [
    "param_grid = {'criterion':['gini', 'entropy']}\n",
    "rfc = RandomForestClassifier(n_estimators = 161, max_depth=17, min_samples_leaf=1, random_state=90)\n",
    "GS = GridSearchCV(rfc,param_grid,cv=10)\n",
    "GS.fit(X_train, y_train.ravel())\n",
    "print(GS.best_params_)\n",
    "print(GS.best_score_)"
   ]
  },
  {
   "cell_type": "code",
   "execution_count": 78,
   "metadata": {},
   "outputs": [
    {
     "name": "stdout",
     "output_type": "stream",
     "text": [
      "accuracy:0.9186046511627907\n",
      "accuracy:0.9273255813953488\n",
      "accuracy:0.9069767441860465\n",
      "accuracy:0.936046511627907\n",
      "accuracy:0.9183673469387755\n",
      "accuracy:0.9358600583090378\n",
      "accuracy:0.9329446064139941\n",
      "accuracy:0.9300291545189504\n",
      "accuracy:0.9358600583090378\n",
      "accuracy:0.9037900874635568\n"
     ]
    }
   ],
   "source": [
    "rfc = RandomForestClassifier(n_estimators = 161, max_depth=17, min_samples_leaf=1, criterion='gini', min_samples_split=2, random_state=90)\n",
    "KFoldCV(clf, X_train, y_train.ravel(), 10)"
   ]
  },
  {
   "cell_type": "code",
   "execution_count": 105,
   "metadata": {},
   "outputs": [],
   "source": [
    "# final SVM model\n",
    "clf = SVC(probability=True, kernel='rbf', C=11, gamma=0.00001)\n",
    "clf.fit(data.iloc[:, :-1].values, data.iloc[:, -1:].values.ravel())\n",
    "A5_X = ReadData(\"A5_test_dataset.tsv\")\n",
    "A5_p = clf.predict_proba(A5_X)\n",
    "with open('A5_predictions_group47.txt', 'w') as f:    \n",
    "    for i in range(A5_p.shape[0]):\n",
    "        f.write(str(A5_p[i][1])+\"\\n\")"
   ]
  }
 ],
 "metadata": {
  "kernelspec": {
   "display_name": "Python 3",
   "language": "python",
   "name": "python3"
  },
  "language_info": {
   "codemirror_mode": {
    "name": "ipython",
    "version": 3
   },
   "file_extension": ".py",
   "mimetype": "text/x-python",
   "name": "python",
   "nbconvert_exporter": "python",
   "pygments_lexer": "ipython3",
   "version": "3.7.6"
  }
 },
 "nbformat": 4,
 "nbformat_minor": 4
}
